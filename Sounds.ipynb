{
  "nbformat": 4,
  "nbformat_minor": 0,
  "metadata": {
    "colab": {
      "name": "Sounds",
      "provenance": [],
      "toc_visible": true,
      "authorship_tag": "ABX9TyPcLn1OTuoUh9ACri5qTBR9",
      "include_colab_link": true
    },
    "kernelspec": {
      "name": "python3",
      "display_name": "Python 3"
    }
  },
  "cells": [
    {
      "cell_type": "markdown",
      "metadata": {
        "id": "view-in-github",
        "colab_type": "text"
      },
      "source": [
        "<a href=\"https://colab.research.google.com/github/MarisabelC/Sound_detector/blob/main/Sounds.ipynb\" target=\"_parent\"><img src=\"https://colab.research.google.com/assets/colab-badge.svg\" alt=\"Open In Colab\"/></a>"
      ]
    },
    {
      "cell_type": "markdown",
      "metadata": {
        "id": "eNg872sCsB3w"
      },
      "source": [
        "# Load pre-trained model from Google Drive"
      ]
    },
    {
      "cell_type": "code",
      "metadata": {
        "id": "bcZhbBE3eHi3"
      },
      "source": [
        "!pip install PyDrive\n",
        "from pydrive.auth import GoogleAuth\n",
        "from pydrive.drive import GoogleDrive\n",
        "from google.colab import auth\n",
        "from oauth2client.client import GoogleCredentials\n",
        "import os\n",
        "\n",
        "auth.authenticate_user()\n",
        "gauth = GoogleAuth()\n",
        "gauth.credentials = GoogleCredentials.get_application_default()\n",
        "drive = GoogleDrive(gauth)"
      ],
      "execution_count": null,
      "outputs": []
    },
    {
      "cell_type": "code",
      "metadata": {
        "id": "Pq41XDsYkZsf"
      },
      "source": [
        "if os.path.exists(\"my_model.h5\"):\n",
        "  print(\"model file is already exists\")\n",
        "else:\n",
        "  download_test = drive.CreateFile({'id': '1cqI0LJoQw4fyf09W6h1cki412ayWtc8V'})\n",
        "  model_file = download_test.GetContentFile('my_model.h5')"
      ],
      "execution_count": null,
      "outputs": []
    },
    {
      "cell_type": "markdown",
      "metadata": {
        "id": "hWtnZqyIsMb_"
      },
      "source": [
        "# Convert wav file to array "
      ]
    },
    {
      "cell_type": "code",
      "metadata": {
        "id": "_6JbdBFPqCmy"
      },
      "source": [
        "import librosa\n",
        "import numpy as np\n",
        "\n",
        "sound_dict = { 0: 'air_conditioner', 1 : 'car_horn', 2 : 'children_playing', 3 : 'dog_bark', 4 : 'drilling', 5 : 'engine_idling', 6 : 'gun_shot', 7 : 'jackhammer', 8 : 'siren', 9 : 'street_music'}\n",
        "\n",
        "def get_prediction(model, wav_file):\n",
        "    \n",
        "    dat1, sample_rate = librosa.load(wav_file)\n",
        "    mels = np.mean(librosa.feature.melspectrogram(y=dat1, sr=sample_rate).T,axis=0)\n",
        "    # print(mels)   \n",
        "    arr = mels.reshape(1,16,8,1)\n",
        "    pred = model.predict(arr)\n",
        "    pred = np.argmax(pred, axis = 1)[0]\n",
        "    return pred\n"
      ],
      "execution_count": null,
      "outputs": []
    },
    {
      "cell_type": "markdown",
      "metadata": {
        "id": "Imf8cj9israT"
      },
      "source": [
        "# Load model and predict sound\n"
      ]
    },
    {
      "cell_type": "code",
      "metadata": {
        "id": "KuRTd09pqr51"
      },
      "source": [
        "import tensorflow as tf\n",
        "\n",
        "model = tf.keras.models.load_model('my_model.h5')\n",
        "pred = get_prediction(model,'bark3.wav')\n",
        "\n",
        "print(sound_dict[pred])"
      ],
      "execution_count": null,
      "outputs": []
    }
  ]
}